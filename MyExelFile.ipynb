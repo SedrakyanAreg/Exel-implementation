{
 "cells": [
  {
   "cell_type": "code",
   "execution_count": 8,
   "id": "8ec2191b",
   "metadata": {},
   "outputs": [],
   "source": [
    "from datetime import datetime"
   ]
  },
  {
   "cell_type": "code",
   "execution_count": 23,
   "id": "42ce89d0",
   "metadata": {},
   "outputs": [],
   "source": [
    "import numpy as np"
   ]
  },
  {
   "cell_type": "code",
   "execution_count": 32,
   "id": "c75bb368",
   "metadata": {},
   "outputs": [],
   "source": [
    "from numpy import full"
   ]
  },
  {
   "cell_type": "code",
   "execution_count": 142,
   "id": "59748493",
   "metadata": {},
   "outputs": [],
   "source": [
    "\n",
    "dict_of_colors = {0:'black', 1:\"red\",2:\"blue\",3:\"green\"}\n",
    "class Cell:\n",
    "    def __init__(self,value = \"\",color = 0):\n",
    "        self.__value = value\n",
    "        self.__color = dict_of_colors[color]\n",
    "    \n",
    "    def setCellValue(self, new_value):\n",
    "        if isinstance(new_value,(int,float,str)):\n",
    "            \n",
    "            self.__value = new_value\n",
    "        \n",
    "        else:\n",
    "            raise TypeError(\"Enter Floating point or Integer or String\")\n",
    "            \n",
    "    \n",
    "    def setColorAt(self, new_color):\n",
    "        \n",
    "        if isinstance(new_color,int):\n",
    "            if 0<=new_color<=3:\n",
    "                self.__color = new_color\n",
    "            else:\n",
    "                raise ValueError(\"There isn't those color\")\n",
    "        else:\n",
    "            raise TypeError(\"There isn't a color\")\n",
    "            \n",
    "            \n",
    "    def getCelValue(self):\n",
    "        return self.__value\n",
    "    \n",
    "    def getColorAt(self):\n",
    "        return self.__color\n",
    "    \n",
    "    def toInt(self):\n",
    "        try:\n",
    "            self.__value = int(self.__value)\n",
    "        except:\n",
    "            print(\"ValueError\")\n",
    "    \n",
    "    def toFloat(self):\n",
    "        try:\n",
    "            self.__value = float(self.__value)\n",
    "        except:\n",
    "            print(\"ValueError\")\n",
    "    \n",
    "    def toDate(self):\n",
    "        try:\n",
    "            self.__value = datetime.striptime(self.__value, '%m/%d/%y')\n",
    "        except:\n",
    "            print(\"It's not Date\")\n",
    "    \n",
    "    def reset(self):\n",
    "        self.__value = \"\"\n",
    "        self.__color = 0\n",
    "        \n"
   ]
  },
  {
   "cell_type": "code",
   "execution_count": 184,
   "id": "656f3001",
   "metadata": {},
   "outputs": [],
   "source": [
    "class SpreadSheet:\n",
    "    \n",
    "    def __init__(self, row, column):\n",
    "        self.data_table = full((row,column), Cell())\n",
    "    \n",
    "    def setCellAt(self,row,column,value):\n",
    "        self.data_table[row, column].setCellValue(value)\n",
    "    \n",
    "    def getCellAt(self, row, column):\n",
    "        return self.data_table[row,column].getCelValue()\n",
    "    \n",
    "    def removeRow(self,row):\n",
    "        self.data_table = np.delete(self.data_table,row,0)\n",
    "    \n",
    "    def addRow(self,row):\n",
    "        a = np.array(Cell() for i in self.data_table)\n",
    "        self.data_table = np.insert(self.data_table,row , a, axis = 0)\n",
    "        \n",
    "    \n",
    "    def removeColumn(self, column):\n",
    "        self.data_table = np.delete(self.data_table,column,1)\n",
    "    \n",
    "    def addColumn(self,column):\n",
    "        a = np.array(Cell() for i in self.data_table[0])\n",
    "        self.data_table = np.insert(self.data_table,column , a, axis = 1)\n",
    "        \n",
    "        \n",
    "        "
   ]
  },
  {
   "cell_type": "code",
   "execution_count": 185,
   "id": "044385c1",
   "metadata": {},
   "outputs": [],
   "source": [
    "# testing Cell class\n",
    "testCell = Cell('3',3)\n",
    "def test_Cell_functions():\n",
    "    \n",
    "    if testCell.getCelValue() != '3':\n",
    "        print(\"There is a problem in getCelValue\")\n",
    "    else:\n",
    "        print(\"getCelValue okay bro\")\n",
    "        \n",
    "    if testCell.getColorAt() != 'green':\n",
    "        print(\"There is a problem getColorAt\")\n",
    "    else:\n",
    "        print(\"getColorAt okay bro\")\n",
    "    \n",
    "    if testCell.toInt() != int('3'):\n",
    "        print(\"There is a problem toInt\")\n",
    "    else:\n",
    "        print(\"toInt okay bro\")\n",
    "    \n",
    "    if testCell.toFloat() != float('3'):\n",
    "        print(\"There is a problem toFloat\")\n",
    "    else:\n",
    "        print(\"toFloat okay bro\")\n",
    "    \n",
    "    testCell.reset()\n",
    "    if testCell.getCelValue() != \"\":\n",
    "        print(\"there is a problem\")\n",
    "    else:\n",
    "        print(\"it's okay bro\")\n",
    "    \n",
    "    "
   ]
  },
  {
   "cell_type": "code",
   "execution_count": 186,
   "id": "375f40b3",
   "metadata": {},
   "outputs": [
    {
     "name": "stdout",
     "output_type": "stream",
     "text": [
      "getCelValue okay bro\n",
      "getColorAt okay bro\n",
      "There is a problem toInt\n",
      "There is a problem toFloat\n",
      "it's okay bro\n"
     ]
    }
   ],
   "source": [
    "test_Cell_functions()"
   ]
  },
  {
   "cell_type": "code",
   "execution_count": 187,
   "id": "27bd230c",
   "metadata": {},
   "outputs": [],
   "source": [
    "testSpreadSheet = SpreadSheet(3,3)\n",
    "def test_SpreadSheet_functions():\n",
    "    testSpreadSheet.setCellAt(0, 0, 12)\n",
    "    if testSpreadSheet.getCellAt(0, 0) != 12:\n",
    "        print(\"There is a problem in getCelValue\")\n",
    "    else:\n",
    "        print(\"getCelValue okay bro\")\n",
    "        \n",
    "    if ((np.delete(testSpreadSheet.data_table,0,0) == testSpreadSheet.data_table[1,:]).all() and \n",
    "        testSpreadSheet.data_table.shape != np.delete(testSpreadSheet.data_table,0,0).shape):\n",
    "        print(\"There isn't a problem removRow\")\n",
    "    else:\n",
    "        print(\"getColorAt isn't okay bro\")\n",
    "    \n",
    "    if ((np.delete(testSpreadSheet.data_table,0,1) == testSpreadSheet.data_table[:,1:]).all() and \n",
    "        testSpreadSheet.data_table.shape != np.delete(testSpreadSheet.data_table,0,1).shape):\n",
    "        print(\"There isn't a problem removeColumn\")\n",
    "    else:\n",
    "        print(\"getColorAt isn't okay bro\")\n",
    "        \n",
    "    size = testSpreadSheet.data_table.size\n",
    "    testSpreadSheet.addRow(0)\n",
    "    \n",
    "    if size < testSpreadSheet.data_table.size :\n",
    "        print(\"ok\")\n",
    "    else:\n",
    "        print(\"toFloat okay bro\")\n",
    "        \n",
    "    size1 = testSpreadSheet.data_table.size\n",
    "    testSpreadSheet.addColumn(0)\n",
    "    \n",
    "    if size1 < testSpreadSheet.data_table.size :\n",
    "        print(\"ok\")\n",
    "    else:\n",
    "        print(\"toFloat okay bro\")\n",
    "    \n",
    "    "
   ]
  },
  {
   "cell_type": "code",
   "execution_count": 190,
   "id": "86c53415",
   "metadata": {},
   "outputs": [
    {
     "name": "stdout",
     "output_type": "stream",
     "text": [
      "getCelValue okay bro\n",
      "There isn't a problem removRow\n",
      "There isn't a problem removeColumn\n",
      "ok\n",
      "ok\n"
     ]
    }
   ],
   "source": [
    "test_SpreadSheet_functions()"
   ]
  },
  {
   "cell_type": "code",
   "execution_count": null,
   "id": "48bd36e6",
   "metadata": {},
   "outputs": [],
   "source": []
  }
 ], 
 "metadata": {
  "kernelspec": {
   "display_name": "Python 3",
   "language": "python",
   "name": "python3"
  },
  "language_info": {
   "codemirror_mode": {
    "name": "ipython",
    "version": 3
   },
   "file_extension": ".py",
   "mimetype": "text/x-python",
   "name": "python",
   "nbconvert_exporter": "python",
   "pygments_lexer": "ipython3",
   "version": "3.8.8"
  }
 },
 "nbformat": 4,
 "nbformat_minor": 5
}
